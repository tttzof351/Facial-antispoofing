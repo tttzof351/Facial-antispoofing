{
 "cells": [
  {
   "cell_type": "code",
   "execution_count": 1,
   "metadata": {},
   "outputs": [],
   "source": [
    "import tensorflow as tf\n",
    "import numpy as np\n",
    "import random\n",
    "import os"
   ]
  },
  {
   "cell_type": "markdown",
   "metadata": {},
   "source": [
    "## Setup seed for reproduce result"
   ]
  },
  {
   "cell_type": "code",
   "execution_count": 2,
   "metadata": {},
   "outputs": [],
   "source": [
    "seed_value = 42\n",
    "\n",
    "os.environ['PYTHONHASHSEED']=str(seed_value)\n",
    "random.seed(seed_value)\n",
    "np.random.seed(seed_value)\n",
    "tf.random.set_seed(seed_value)"
   ]
  },
  {
   "cell_type": "markdown",
   "metadata": {},
   "source": [
    "## Data preparation"
   ]
  },
  {
   "cell_type": "code",
   "execution_count": 3,
   "metadata": {},
   "outputs": [],
   "source": [
    "#Train: https://drive.google.com/a/idrnd.net/file/d/1xmALNsYW-zm-Id9T6Ku2H4_cBWoqn23s\n",
    "#Test: https://drive.google.com/a/idrnd.net/file/d/1teaLCo-F-5RCQM8Puxqbk13bI0evqIzg\n",
    "\n",
    "train_dir = \"./dataset/IDRND_FASDB_train\"\n",
    "log_dir = \"./logs\" #for tensorboard\n",
    "checkpoint_dir = './checkpoints/vgg_antispoofing' #for saving weights in the process of fit\n",
    "model_dir = \"./model_vgg_antispoofing\" #for save model"
   ]
  },
  {
   "cell_type": "code",
   "execution_count": 4,
   "metadata": {},
   "outputs": [],
   "source": [
    "if not os.path.isdir(train_dir):\n",
    "    print(\"You need to download dasates\")"
   ]
  },
  {
   "cell_type": "code",
   "execution_count": 5,
   "metadata": {},
   "outputs": [],
   "source": [
    "img_width = 384\n",
    "img_height = 384\n",
    "img_channels = 3\n",
    "batch_size = 32"
   ]
  },
  {
   "cell_type": "code",
   "execution_count": 6,
   "metadata": {},
   "outputs": [],
   "source": [
    "import glob\n",
    "\n",
    "real_files = glob.glob(train_dir + \"/real/*.png\")\n",
    "spoof_files = glob.glob(train_dir + \"/spoof/*.png\")\n",
    "\n",
    "for file in (real_files + spoof_files):\n",
    "    filename = file.split('/')[-1]\n",
    "    if filename.startswith(\".\"):\n",
    "        print(\"Looks like a problem - you need remove hidden files:\", file)\n",
    "        break"
   ]
  },
  {
   "cell_type": "code",
   "execution_count": 7,
   "metadata": {},
   "outputs": [],
   "source": [
    "X = real_files + spoof_files\n",
    "y = np.concatenate((\n",
    "    np.ones(len(real_files)), # real is 1\n",
    "    np.zeros(len(spoof_files))), # spoof is 0\n",
    "    axis=None\n",
    ")"
   ]
  },
  {
   "cell_type": "code",
   "execution_count": 8,
   "metadata": {},
   "outputs": [],
   "source": [
    "from sklearn.model_selection import train_test_split\n",
    "\n",
    "X_train, X_validation, y_train, y_validation = train_test_split(\n",
    "    X, \n",
    "    y, \n",
    "    test_size = 0.2, \n",
    "    random_state = seed_value,\n",
    "    stratify = y\n",
    ")"
   ]
  },
  {
   "cell_type": "code",
   "execution_count": 9,
   "metadata": {},
   "outputs": [],
   "source": [
    "import cv2\n",
    "\n",
    "#Load image in two formats: hsv and yuv\n",
    "def load_image(path):\n",
    "    image = cv2.imread(path)\n",
    "    h, w, c = image.shape\n",
    "    dw, dh = w // 4, h // 4\n",
    "    image = cv2.resize(image[dh:h-dh, dw:w-dw, :], (img_width, img_height))\n",
    "\n",
    "    hsv = cv2.cvtColor(image, cv2.COLOR_BGR2HSV)\n",
    "    yuv = cv2.cvtColor(image, cv2.COLOR_BGR2YUV)\n",
    "\n",
    "    hsv = hsv / 255.0\n",
    "    yuv = yuv / 255.0\n",
    "    hsv = hsv.astype(np.float32)\n",
    "    yuv = yuv.astype(np.float32)\n",
    "    return (hsv, yuv)"
   ]
  },
  {
   "cell_type": "code",
   "execution_count": 10,
   "metadata": {},
   "outputs": [],
   "source": [
    "def get_label(path):\n",
    "    pack_name = path.split('/')[-2]\n",
    "    if pack_name == 'real':\n",
    "        return 1\n",
    "    else:\n",
    "        return 0"
   ]
  },
  {
   "cell_type": "markdown",
   "metadata": {},
   "source": [
    "## Make NN model"
   ]
  },
  {
   "cell_type": "markdown",
   "metadata": {},
   "source": [
    "### Because we have deal with imbalance of classes - we need to make metric and loss function with weights"
   ]
  },
  {
   "cell_type": "code",
   "execution_count": 11,
   "metadata": {},
   "outputs": [
    {
     "name": "stdout",
     "output_type": "stream",
     "text": [
      "Count of real in dataset: 1223\n",
      "Count of spoof in dataset 7076\n"
     ]
    }
   ],
   "source": [
    "print(\"Count of real in dataset:\", len(real_files))\n",
    "print(\"Count of spoof in dataset\", len(spoof_files))"
   ]
  },
  {
   "cell_type": "code",
   "execution_count": 12,
   "metadata": {},
   "outputs": [],
   "source": [
    "from tensorflow import ones_like, equal\n",
    "from tensorflow.math import log\n",
    "from tensorflow.math import multiply\n",
    "\n",
    "class BalancedSparseCategoricalAccuracy(tf.keras.metrics.SparseCategoricalAccuracy):\n",
    "    def __init__(self, name='balanced_sparse_categorical_accuracy', dtype=None):\n",
    "        super().__init__(name, dtype=dtype)\n",
    "\n",
    "    def update_state(self, y_true, y_pred, sample_weight=None):\n",
    "        y_flat = y_true\n",
    "        if y_true.shape.ndims == y_pred.shape.ndims:\n",
    "            y_flat = tf.squeeze(y_flat, axis=[-1])\n",
    "        y_true_int = tf.cast(y_flat, tf.int32)\n",
    "\n",
    "        cls_counts = tf.math.bincount(y_true_int)\n",
    "        cls_counts = tf.math.reciprocal_no_nan(tf.cast(cls_counts, self.dtype))\n",
    "        weight = tf.gather(cls_counts, y_true_int)\n",
    "        return super().update_state(y_true, y_pred, sample_weight=weight)"
   ]
  },
  {
   "cell_type": "code",
   "execution_count": 13,
   "metadata": {},
   "outputs": [],
   "source": [
    "from tensorflow.keras import backend as K\n",
    "\n",
    "def weighted_binary_crossentropy(pos_weight=1):\n",
    "    def _to_tensor(x, dtype):\n",
    "        return tf.convert_to_tensor(x, dtype=dtype)\n",
    "  \n",
    "  \n",
    "    def _calculate_weighted_binary_crossentropy(target, output, from_logits=False):\n",
    "        if not from_logits:\n",
    "            _epsilon = _to_tensor(K.epsilon(), output.dtype.base_dtype)\n",
    "            output = tf.clip_by_value(output, _epsilon, 1 - _epsilon)\n",
    "            output = log(output / (1 - output))\n",
    "        target = tf.dtypes.cast(target, tf.float32)\n",
    "        return tf.nn.weighted_cross_entropy_with_logits(labels=target, logits=output, pos_weight=pos_weight)\n",
    "\n",
    "\n",
    "    def _weighted_binary_crossentropy(y_true, y_pred):\n",
    "        return K.mean(_calculate_weighted_binary_crossentropy(y_true, y_pred), axis=-1)\n",
    "    \n",
    "    return _weighted_binary_crossentropy"
   ]
  },
  {
   "cell_type": "code",
   "execution_count": 14,
   "metadata": {},
   "outputs": [],
   "source": [
    "pos = (y_train == 1).astype(int).sum()\n",
    "neg = (y_train == 0).astype(int).sum()\n",
    "total = pos + neg\n",
    "weight_for_0 = (1 / neg)*(total)/2.0 \n",
    "weight_for_1 = (1 / pos)*(total)/2.0\n",
    "\n",
    "class_weight = {0: weight_for_0, 1: weight_for_1}"
   ]
  },
  {
   "cell_type": "code",
   "execution_count": 15,
   "metadata": {},
   "outputs": [],
   "source": [
    "metrics = [\n",
    "    BalancedSparseCategoricalAccuracy(),\n",
    "    tf.keras.metrics.TruePositives(name='true_real'),\n",
    "    tf.keras.metrics.FalsePositives(name='false_real'),\n",
    "    tf.keras.metrics.TrueNegatives(name='true_spoof'),\n",
    "    tf.keras.metrics.FalseNegatives(name='false_spoof'),\n",
    "    tf.keras.metrics.BinaryAccuracy(name='accuracy'),\n",
    "    tf.keras.metrics.Precision(name='precision'),\n",
    "    tf.keras.metrics.Recall(name='recall'),\n",
    "    tf.keras.metrics.AUC(name='auc'),\n",
    "]\n",
    "\n",
    "def make_model(metrics=metrics):\n",
    "    input_hsv = tf.keras.layers.Input(name='hsv_input', shape=(img_height, img_width, img_channels))\n",
    "    input_yuv = tf.keras.layers.Input(name='yuv_input', shape=(img_height, img_width, img_channels))\n",
    "    \n",
    "    vgg_hsv = tf.keras.applications.VGG16(weights=\"imagenet\", include_top=False)\n",
    "    vgg_hsv._name = \"vgg_hsv\"\n",
    "        \n",
    "    vgg_yuv = tf.keras.applications.VGG16(weights=\"imagenet\", include_top=False)\n",
    "    vgg_yuv._name = \"vgg_yuv\"\n",
    "        \n",
    "    vgg_hsv.trainable = False\n",
    "    vgg_yuv.trainable = False\n",
    "        \n",
    "    vgg_hsv_output = vgg_hsv(input_hsv)\n",
    "    vgg_yuv_output = vgg_yuv(input_yuv)\n",
    "        \n",
    "    feature = tf.keras.layers.concatenate([vgg_hsv_output, vgg_yuv_output])\n",
    "\n",
    "    output = tf.keras.layers.Flatten()(feature)\n",
    "    \n",
    "    output = tf.keras.layers.Dense(units=128)(output)\n",
    "    output = tf.keras.layers.BatchNormalization()(output)\n",
    "    output = tf.keras.layers.Activation(activation=tf.nn.leaky_relu)(output)\n",
    "    output = tf.keras.layers.Dropout(0.5)(output)\n",
    "        \n",
    "    output = tf.keras.layers.Dense(units=128)(output)\n",
    "    output = tf.keras.layers.BatchNormalization()(output)\n",
    "    output = tf.keras.layers.Activation(activation=tf.nn.leaky_relu)(output)\n",
    "    output = tf.keras.layers.Dropout(0.5)(output)\n",
    "    \n",
    "    output = tf.keras.layers.Dense(1, name='output', activation=\"sigmoid\")(output)\n",
    "    #output = tf.keras.layers.Dense(1, name='output')(output)\n",
    "    \n",
    "    model = tf.keras.Model(inputs=[input_hsv, input_yuv], outputs=output)\n",
    "    \n",
    "    model.compile(\n",
    "        optimizer=tf.keras.optimizers.Adam(learning_rate=1e-4),\n",
    "        loss=weighted_binary_crossentropy(weight_for_1),\n",
    "        metrics=metrics\n",
    "    )\n",
    "\n",
    "    return model"
   ]
  },
  {
   "cell_type": "code",
   "execution_count": 16,
   "metadata": {},
   "outputs": [],
   "source": [
    "model = make_model()"
   ]
  },
  {
   "cell_type": "code",
   "execution_count": 17,
   "metadata": {},
   "outputs": [
    {
     "name": "stdout",
     "output_type": "stream",
     "text": [
      "Model: \"functional_1\"\n",
      "__________________________________________________________________________________________________\n",
      "Layer (type)                    Output Shape         Param #     Connected to                     \n",
      "==================================================================================================\n",
      "hsv_input (InputLayer)          [(None, 384, 384, 3) 0                                            \n",
      "__________________________________________________________________________________________________\n",
      "yuv_input (InputLayer)          [(None, 384, 384, 3) 0                                            \n",
      "__________________________________________________________________________________________________\n",
      "vgg_hsv (Functional)            (None, None, None, 5 14714688    hsv_input[0][0]                  \n",
      "__________________________________________________________________________________________________\n",
      "vgg_yuv (Functional)            (None, None, None, 5 14714688    yuv_input[0][0]                  \n",
      "__________________________________________________________________________________________________\n",
      "concatenate (Concatenate)       (None, 12, 12, 1024) 0           vgg_hsv[0][0]                    \n",
      "                                                                 vgg_yuv[0][0]                    \n",
      "__________________________________________________________________________________________________\n",
      "flatten (Flatten)               (None, 147456)       0           concatenate[0][0]                \n",
      "__________________________________________________________________________________________________\n",
      "dense (Dense)                   (None, 128)          18874496    flatten[0][0]                    \n",
      "__________________________________________________________________________________________________\n",
      "batch_normalization (BatchNorma (None, 128)          512         dense[0][0]                      \n",
      "__________________________________________________________________________________________________\n",
      "activation (Activation)         (None, 128)          0           batch_normalization[0][0]        \n",
      "__________________________________________________________________________________________________\n",
      "dropout (Dropout)               (None, 128)          0           activation[0][0]                 \n",
      "__________________________________________________________________________________________________\n",
      "dense_1 (Dense)                 (None, 128)          16512       dropout[0][0]                    \n",
      "__________________________________________________________________________________________________\n",
      "batch_normalization_1 (BatchNor (None, 128)          512         dense_1[0][0]                    \n",
      "__________________________________________________________________________________________________\n",
      "activation_1 (Activation)       (None, 128)          0           batch_normalization_1[0][0]      \n",
      "__________________________________________________________________________________________________\n",
      "dropout_1 (Dropout)             (None, 128)          0           activation_1[0][0]               \n",
      "__________________________________________________________________________________________________\n",
      "output (Dense)                  (None, 1)            129         dropout_1[0][0]                  \n",
      "==================================================================================================\n",
      "Total params: 48,321,537\n",
      "Trainable params: 18,891,649\n",
      "Non-trainable params: 29,429,888\n",
      "__________________________________________________________________________________________________\n"
     ]
    }
   ],
   "source": [
    "model.summary()"
   ]
  },
  {
   "cell_type": "code",
   "execution_count": 18,
   "metadata": {},
   "outputs": [
    {
     "data": {
      "image/png": "[encoded data removed]",
      "text/plain": [
       "<IPython.core.display.Image object>"
      ]
     },
     "execution_count": 18,
     "metadata": {},
     "output_type": "execute_result"
    }
   ],
   "source": [
    "tf.keras.utils.plot_model(model)"
   ]
  },
  {
   "cell_type": "code",
   "execution_count": 19,
   "metadata": {},
   "outputs": [
    {
     "name": "stdout",
     "output_type": "stream",
     "text": [
      "steps_per_epoch: 207\n"
     ]
    }
   ],
   "source": [
    "steps_per_epoch = int(len(X_train) / batch_size)\n",
    "print(\"steps_per_epoch:\", steps_per_epoch)"
   ]
  },
  {
   "cell_type": "code",
   "execution_count": 20,
   "metadata": {},
   "outputs": [
    {
     "name": "stdout",
     "output_type": "stream",
     "text": [
      "1/1 [==============================] - 0s 2ms/step - loss: 0.0000e+00 - balanced_sparse_categorical_accuracy: 0.0000e+00 - true_real: 0.0000e+00 - false_real: 0.0000e+00 - true_spoof: 0.0000e+00 - false_spoof: 0.0000e+00 - accuracy: 0.0000e+00 - precision: 0.0000e+00 - recall: 0.0000e+00 - auc: 0.0000e+00\n"
     ]
    },
    {
     "data": {
      "text/plain": [
       "[0.0, 0.0, 0.0, 0.0, 0.0, 0.0, 0.0, 0.0, 0.0, 0.0]"
      ]
     },
     "execution_count": 20,
     "metadata": {},
     "output_type": "execute_result"
    }
   ],
   "source": [
    "#Check signature of model\n",
    "\n",
    "hsv = np.zeros((1, img_width, img_height, img_channels))\n",
    "yuv = np.ones((1, img_width, img_height, img_channels))\n",
    "\n",
    "model.evaluate([hsv, yuv])"
   ]
  },
  {
   "cell_type": "code",
   "execution_count": 21,
   "metadata": {},
   "outputs": [],
   "source": [
    "#Create callbacks\n",
    "\n",
    "checkpoint_prefix = os.path.join(checkpoint_dir, \"ckpt_{epoch}\")\n",
    "checkpoint_callback=tf.keras.callbacks.ModelCheckpoint(\n",
    "    filepath=checkpoint_prefix,\n",
    "    save_weights_only=True\n",
    ")\n",
    "\n",
    "tensorboard_callback = tf.keras.callbacks.TensorBoard(log_dir=log_dir)"
   ]
  },
  {
   "cell_type": "markdown",
   "metadata": {},
   "source": [
    "#### We need to wrap of process of extract features in generator because it is heavy process"
   ]
  },
  {
   "cell_type": "code",
   "execution_count": 22,
   "metadata": {},
   "outputs": [],
   "source": [
    "def train_generator():\n",
    "    for path in X_train:\n",
    "        hsv, yuv = load_image(path)\n",
    "        label = get_label(path)\n",
    "        yield (hsv, yuv), label\n",
    "\n",
    "def validation_generator():\n",
    "    for path in X_validation:\n",
    "        hsv, yuv = load_image(path)\n",
    "        label = get_label(path)\n",
    "        yield (hsv, yuv), label\n",
    "        \n",
    "train_dataset = tf.data.Dataset.from_generator(\n",
    "    train_generator,\n",
    "    ((tf.float32, tf.float32), tf.int64)\n",
    ").batch(batch_size).repeat().prefetch(1)\n",
    "\n",
    "validation_dataset = tf.data.Dataset.from_generator(\n",
    "    validation_generator,\n",
    "    ((tf.float32, tf.float32), tf.int64)\n",
    ").batch(batch_size).prefetch(1)"
   ]
  },
  {
   "cell_type": "code",
   "execution_count": 23,
   "metadata": {
    "scrolled": true
   },
   "outputs": [
    {
     "name": "stdout",
     "output_type": "stream",
     "text": [
      "Epoch 1/8\n",
      "  1/207 [..............................] - ETA: 0s - loss: 1.7470 - balanced_sparse_categorical_accuracy: 0.0000e+00 - true_real: 1.0000 - false_real: 20.0000 - true_spoof: 6.0000 - false_spoof: 5.0000 - accuracy: 0.2188 - precision: 0.0476 - recall: 0.1667 - auc: 0.1955WARNING:tensorflow:From /home/euclid/.local/lib/python3.7/site-packages/tensorflow/python/ops/summary_ops_v2.py:1277: stop (from tensorflow.python.eager.profiler) is deprecated and will be removed after 2020-07-01.\n",
      "Instructions for updating:\n",
      "use `tf.profiler.experimental.stop` instead.\n",
      "207/207 [==============================] - 160s 771ms/step - loss: 0.8006 - balanced_sparse_categorical_accuracy: 0.0314 - true_real: 808.0000 - false_real: 2060.0000 - true_spoof: 3587.0000 - false_spoof: 169.0000 - accuracy: 0.6635 - precision: 0.2817 - recall: 0.8270 - auc: 0.8276 - val_loss: 0.5450 - val_balanced_sparse_categorical_accuracy: 0.0096 - val_true_real: 236.0000 - val_false_real: 393.0000 - val_true_spoof: 1022.0000 - val_false_spoof: 9.0000 - val_accuracy: 0.7577 - val_precision: 0.3752 - val_recall: 0.9633 - val_auc: 0.9587\n",
      "Epoch 2/8\n",
      "207/207 [==============================] - 157s 757ms/step - loss: 0.4684 - balanced_sparse_categorical_accuracy: 0.0411 - true_real: 907.0000 - false_real: 1003.0000 - true_spoof: 4629.0000 - false_spoof: 68.0000 - accuracy: 0.8376 - precision: 0.4749 - recall: 0.9303 - auc: 0.9497 - val_loss: 0.7042 - val_balanced_sparse_categorical_accuracy: 0.0192 - val_true_real: 243.0000 - val_false_real: 592.0000 - val_true_spoof: 823.0000 - val_false_spoof: 2.0000 - val_accuracy: 0.6418 - val_precision: 0.2910 - val_recall: 0.9918 - val_auc: 0.9753\n",
      "Epoch 3/8\n",
      "207/207 [==============================] - 157s 759ms/step - loss: 0.3385 - balanced_sparse_categorical_accuracy: 0.0193 - true_real: 905.0000 - false_real: 639.0000 - true_spoof: 4995.0000 - false_spoof: 68.0000 - accuracy: 0.8926 - precision: 0.5861 - recall: 0.9301 - auc: 0.9744 - val_loss: 0.3743 - val_balanced_sparse_categorical_accuracy: 0.0096 - val_true_real: 239.0000 - val_false_real: 238.0000 - val_true_spoof: 1177.0000 - val_false_spoof: 6.0000 - val_accuracy: 0.8529 - val_precision: 0.5010 - val_recall: 0.9755 - val_auc: 0.9833\n",
      "Epoch 4/8\n",
      "207/207 [==============================] - 157s 759ms/step - loss: 0.2471 - balanced_sparse_categorical_accuracy: 0.0507 - true_real: 929.0000 - false_real: 403.0000 - true_spoof: 5231.0000 - false_spoof: 44.0000 - accuracy: 0.9323 - precision: 0.6974 - recall: 0.9548 - auc: 0.9876 - val_loss: 0.5347 - val_balanced_sparse_categorical_accuracy: 0.0096 - val_true_real: 243.0000 - val_false_real: 423.0000 - val_true_spoof: 992.0000 - val_false_spoof: 2.0000 - val_accuracy: 0.7439 - val_precision: 0.3649 - val_recall: 0.9918 - val_auc: 0.9863\n",
      "Epoch 5/8\n",
      "207/207 [==============================] - 158s 764ms/step - loss: 0.1847 - balanced_sparse_categorical_accuracy: 0.0266 - true_real: 951.0000 - false_real: 262.0000 - true_spoof: 5370.0000 - false_spoof: 24.0000 - accuracy: 0.9565 - precision: 0.7840 - recall: 0.9754 - auc: 0.9939 - val_loss: 0.2382 - val_balanced_sparse_categorical_accuracy: 0.0192 - val_true_real: 236.0000 - val_false_real: 96.0000 - val_true_spoof: 1319.0000 - val_false_spoof: 9.0000 - val_accuracy: 0.9367 - val_precision: 0.7108 - val_recall: 0.9633 - val_auc: 0.9888\n",
      "Epoch 6/8\n",
      "207/207 [==============================] - 159s 767ms/step - loss: 0.1324 - balanced_sparse_categorical_accuracy: 0.0217 - true_real: 959.0000 - false_real: 173.0000 - true_spoof: 5457.0000 - false_spoof: 18.0000 - accuracy: 0.9712 - precision: 0.8472 - recall: 0.9816 - auc: 0.9978 - val_loss: 0.1924 - val_balanced_sparse_categorical_accuracy: 0.0192 - val_true_real: 233.0000 - val_false_real: 62.0000 - val_true_spoof: 1353.0000 - val_false_spoof: 12.0000 - val_accuracy: 0.9554 - val_precision: 0.7898 - val_recall: 0.9510 - val_auc: 0.9911\n",
      "Epoch 7/8\n",
      "207/207 [==============================] - 158s 765ms/step - loss: 0.1251 - balanced_sparse_categorical_accuracy: 0.0531 - true_real: 952.0000 - false_real: 164.0000 - true_spoof: 5469.0000 - false_spoof: 22.0000 - accuracy: 0.9719 - precision: 0.8530 - recall: 0.9774 - auc: 0.9969 - val_loss: 0.1870 - val_balanced_sparse_categorical_accuracy: 0.0192 - val_true_real: 231.0000 - val_false_real: 51.0000 - val_true_spoof: 1364.0000 - val_false_spoof: 14.0000 - val_accuracy: 0.9609 - val_precision: 0.8191 - val_recall: 0.9429 - val_auc: 0.9887\n",
      "Epoch 8/8\n",
      "207/207 [==============================] - 160s 771ms/step - loss: 0.0970 - balanced_sparse_categorical_accuracy: 0.0483 - true_real: 958.0000 - false_real: 98.0000 - true_spoof: 5536.0000 - false_spoof: 15.0000 - accuracy: 0.9828 - precision: 0.9072 - recall: 0.9846 - auc: 0.9987 - val_loss: 0.1805 - val_balanced_sparse_categorical_accuracy: 0.0288 - val_true_real: 218.0000 - val_false_real: 10.0000 - val_true_spoof: 1405.0000 - val_false_spoof: 27.0000 - val_accuracy: 0.9778 - val_precision: 0.9561 - val_recall: 0.8898 - val_auc: 0.9904\n"
     ]
    }
   ],
   "source": [
    "result = model.fit(\n",
    "    train_dataset,\n",
    "    validation_data=validation_dataset,\n",
    "    steps_per_epoch = steps_per_epoch,\n",
    "    epochs=8,\n",
    "    callbacks=[tensorboard_callback, checkpoint_callback]\n",
    ")"
   ]
  },
  {
   "cell_type": "code",
   "execution_count": 27,
   "metadata": {},
   "outputs": [],
   "source": [
    "eval_res = model.evaluate(validation_dataset, return_dict=True, verbose=0)"
   ]
  },
  {
   "cell_type": "code",
   "execution_count": 28,
   "metadata": {},
   "outputs": [
    {
     "data": {
      "text/plain": [
       "{'loss': 0.18052156269550323,\n",
       " 'balanced_sparse_categorical_accuracy': 0.028846153989434242,\n",
       " 'true_real': 218.0,\n",
       " 'false_real': 10.0,\n",
       " 'true_spoof': 1405.0,\n",
       " 'false_spoof': 27.0,\n",
       " 'accuracy': 0.9777644276618958,\n",
       " 'precision': 0.9561403393745422,\n",
       " 'recall': 0.8897958993911743,\n",
       " 'auc': 0.9904247522354126}"
      ]
     },
     "execution_count": 28,
     "metadata": {},
     "output_type": "execute_result"
    }
   ],
   "source": [
    "eval_res"
   ]
  },
  {
   "cell_type": "code",
   "execution_count": 29,
   "metadata": {},
   "outputs": [
    {
     "name": "stdout",
     "output_type": "stream",
     "text": [
      "WARNING:tensorflow:From /home/euclid/.local/lib/python3.7/site-packages/tensorflow/python/training/tracking/tracking.py:111: Model.state_updates (from tensorflow.python.keras.engine.training) is deprecated and will be removed in a future version.\n",
      "Instructions for updating:\n",
      "This property should not be used in TensorFlow 2.0, as updates are applied automatically.\n",
      "WARNING:tensorflow:From /home/euclid/.local/lib/python3.7/site-packages/tensorflow/python/training/tracking/tracking.py:111: Layer.updates (from tensorflow.python.keras.engine.base_layer) is deprecated and will be removed in a future version.\n",
      "Instructions for updating:\n",
      "This property should not be used in TensorFlow 2.0, as updates are applied automatically.\n",
      "INFO:tensorflow:Assets written to: ./model_vgg_antispoofing/assets\n"
     ]
    }
   ],
   "source": [
    "model.save(model_dir)"
   ]
  },
  {
   "cell_type": "code",
   "execution_count": null,
   "metadata": {},
   "outputs": [],
   "source": []
  }
 ],
 "metadata": {
  "kernelspec": {
   "display_name": "Python 3",
   "language": "python",
   "name": "python3"
  },
  "language_info": {
   "codemirror_mode": {
    "name": "ipython",
    "version": 3
   },
   "file_extension": ".py",
   "mimetype": "text/x-python",
   "name": "python",
   "nbconvert_exporter": "python",
   "pygments_lexer": "ipython3",
   "version": "3.7.5"
  }
 },
 "nbformat": 4,
 "nbformat_minor": 4
}
